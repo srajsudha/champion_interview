{
 "cells": [
  {
   "cell_type": "code",
   "execution_count": 0,
   "metadata": {
    "application/vnd.databricks.v1+cell": {
     "cellMetadata": {
      "byteLimit": 2048000,
      "rowLimit": 10000
     },
     "inputWidgets": {},
     "nuid": "f01bb9ba-2fe7-49ee-81ef-62f407505c54",
     "showTitle": false,
     "tableResultSettingsMap": {},
     "title": ""
    }
   },
   "outputs": [],
   "source": [
    "%run ../utlis"
   ]
  },
  {
   "cell_type": "code",
   "execution_count": 0,
   "metadata": {
    "application/vnd.databricks.v1+cell": {
     "cellMetadata": {
      "byteLimit": 2048000,
      "rowLimit": 10000
     },
     "inputWidgets": {},
     "nuid": "56105263-988c-4c37-ad9a-5734e71eebac",
     "showTitle": false,
     "tableResultSettingsMap": {},
     "title": ""
    }
   },
   "outputs": [],
   "source": [
    "%run ../common"
   ]
  },
  {
   "cell_type": "code",
   "execution_count": 0,
   "metadata": {
    "application/vnd.databricks.v1+cell": {
     "cellMetadata": {
      "byteLimit": 2048000,
      "rowLimit": 10000
     },
     "inputWidgets": {},
     "nuid": "0a400640-16f5-4073-941a-39feb855d370",
     "showTitle": false,
     "tableResultSettingsMap": {},
     "title": ""
    }
   },
   "outputs": [],
   "source": [
    "def main():\n",
    "    try:\n",
    "        last_read_timestamp = read_last_timestamp(watermark_table)\n",
    "        new_data_df = read_new_data(jdbcUrl, jdbcUsername, jdbcPassword, source_table, last_read_timestamp)\n",
    "        if new_data_df.count() > 0:\n",
    "            # Display the new data\n",
    "            display(new_data_df)\n",
    "            \n",
    "            # Get the latest timestamp from the new data\n",
    "            latest_timestamp = new_data_df.agg({\"last_updated\": \"max\"}).collect()[0][0]\n",
    "            \n",
    "            # Update the watermark table with the latest timestamp\n",
    "            update_watermark_table(watermark_table, latest_timestamp)\n",
    "            \n",
    "            # Write the new data to the target table\n",
    "            new_data_df.write.format(\"delta\").mode(\"append\").saveAsTable(target_table)\n",
    "        else:\n",
    "            logger.info(\"No new data to process.\")\n",
    "    except Exception as e:\n",
    "        logger.error(f\"Error in main function: {e}\")\n",
    "        raise\n",
    "        "
   ]
  },
  {
   "cell_type": "code",
   "execution_count": 0,
   "metadata": {
    "application/vnd.databricks.v1+cell": {
     "cellMetadata": {
      "byteLimit": 2048000,
      "rowLimit": 10000
     },
     "inputWidgets": {},
     "nuid": "62c758b0-20b0-4546-8e9d-4b51fc5f8ffb",
     "showTitle": false,
     "tableResultSettingsMap": {},
     "title": ""
    }
   },
   "outputs": [],
   "source": [
    "if __name__ == \"__main__\":\n",
    "    logging.basicConfig(level=logging.INFO)\n",
    "    logger = logging.getLogger(__name__)\n",
    "    watermark_table = \"deloitte.sudhanshu.watermark_data\"\n",
    "    source_table = \"dbo.raj_practice\"\n",
    "    target_table = \"deloitte.sudhanshu.raw_sqlserver_data\"\n",
    "\n",
    "    main()"
   ]
  }
 ],
 "metadata": {
  "application/vnd.databricks.v1+notebook": {
   "computePreferences": null,
   "dashboards": [],
   "environmentMetadata": {
    "base_environment": "",
    "client": "2"
   },
   "language": "python",
   "notebookMetadata": {
    "pythonIndentUnit": 4
   },
   "notebookName": "raw_layer_sqlserver",
   "widgets": {}
  },
  "language_info": {
   "name": "python"
  }
 },
 "nbformat": 4,
 "nbformat_minor": 0
}
