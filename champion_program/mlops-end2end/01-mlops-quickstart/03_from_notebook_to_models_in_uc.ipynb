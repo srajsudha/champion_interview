{
 "cells": [
  {
   "cell_type": "markdown",
   "metadata": {
    "application/vnd.databricks.v1+cell": {
     "cellMetadata": {},
     "inputWidgets": {},
     "nuid": "c377f075-b3c7-4461-9826-1e4eda2f1253",
     "showTitle": false,
     "tableResultSettingsMap": {},
     "title": ""
    }
   },
   "source": [
    "# Managing the model lifecycle in Unity Catalog\n",
    "\n",
    "One of the primary challenges among data scientists and ML engineers is the absence of a central repository for models, their versions, and the means to manage them throughout their lifecycle.\n",
    "\n",
    "[Models in Unity Catalog](https://docs.databricks.com/en/mlflow/models-in-uc.html) addresses this challenge and enables members of the data team to:\n",
    "<br>\n",
    "* **Discover** registered models, current aliases in model development, experiment runs, and associated code with a registered model\n",
    "* **Promote** models to different phases of their lifecycle with the use of model aliases\n",
    "* **Tag** models to capture metadata specific to your MLOps process\n",
    "* **Deploy** different versions of a registered model, offering MLOps engineers ability to deploy and conduct testing of different model versions\n",
    "* **Test** models in an automated fashion\n",
    "* **Document** models throughout their lifecycle\n",
    "* **Secure** access and permission for model registrations, execution or modifications\n",
    "\n",
    "We will look at how we test and promote a new __Challenger__ model as a candidate to replace an existing __Champion__ model.\n",
    "\n",
    "<img src=\"https://github.com/databricks-demos/dbdemos-resources/blob/main/images/product/mlops/mlops-uc-end2end-3.png?raw=true\" width=\"1200\">\n",
    "\n",
    "<!-- Collect usage data (view). Remove it to disable collection or disable tracker during installation. View README for more details.  -->\n",
    "<img width=\"1px\" src=\"https://ppxrzfxige.execute-api.us-west-2.amazonaws.com/v1/analytics?category=data-science&org_id=3227024006299960&notebook=%2F01-mlops-quickstart%2F03_from_notebook_to_models_in_uc&demo_name=mlops-end2end&event=VIEW&path=%2F_dbdemos%2Fdata-science%2Fmlops-end2end%2F01-mlops-quickstart%2F03_from_notebook_to_models_in_uc&version=1\">"
   ]
  },
  {
   "cell_type": "markdown",
   "metadata": {
    "application/vnd.databricks.v1+cell": {
     "cellMetadata": {},
     "inputWidgets": {},
     "nuid": "ec594def-47ed-4061-99da-299a8017ea4f",
     "showTitle": false,
     "tableResultSettingsMap": {},
     "title": null
    }
   },
   "source": [
    "### A cluster has been created for this demo\n",
    "To run this demo, just select the cluster `Current Cluster` from the dropdown menu ([open cluster configuration](https://enb-deloitte.cloud.databricks.com/#setting/clusters/0106-134225-g5g75oj5/configuration)). <br />\n",
    "*Note: If the cluster was deleted after 30 days, you can re-create it with `dbdemos.create_cluster('mlops-end2end')` or re-install the demo: `dbdemos.install('mlops-end2end')`*"
   ]
  },
  {
   "cell_type": "markdown",
   "metadata": {
    "application/vnd.databricks.v1+cell": {
     "cellMetadata": {},
     "inputWidgets": {},
     "nuid": "90ee8004-aad8-47e0-93b6-e4ea0fbc846a",
     "showTitle": false,
     "tableResultSettingsMap": {},
     "title": ""
    }
   },
   "source": [
    "## How to use Models in Unity Catalog\n",
    "Typically, data scientists who use MLflow will conduct many experiments, each with a number of runs that track and log metrics and parameters. During the course of this development cycle, they will select the best run within an experiment and register its model to Unity Catalog.  Think of this as **committing** the model to the Unity Catalog, much as you would commit code to a version control system.\n",
    "\n",
    "Unity Catalog proposes free-text model alias i.e. `Baseline`, `Challenger`, `Champion` along with tagging.\n",
    "\n",
    "Users with appropriate permissions can create models, modify aliases and tags, use models etc."
   ]
  },
  {
   "cell_type": "code",
   "execution_count": 0,
   "metadata": {
    "application/vnd.databricks.v1+cell": {
     "cellMetadata": {},
     "inputWidgets": {},
     "nuid": "2c203efd-a694-4fe0-baec-2c25ea144250",
     "showTitle": true,
     "tableResultSettingsMap": {},
     "title": "Install MLflow version for model lineage in UC [for MLR < 15.2]"
    }
   },
   "outputs": [],
   "source": [
    "%pip install --quiet mlflow==2.19\n",
    "dbutils.library.restartPython()"
   ]
  },
  {
   "cell_type": "code",
   "execution_count": 0,
   "metadata": {
    "application/vnd.databricks.v1+cell": {
     "cellMetadata": {},
     "inputWidgets": {},
     "nuid": "e6a43661-f45a-470a-a455-209c83549fef",
     "showTitle": false,
     "tableResultSettingsMap": {},
     "title": ""
    },
    "jupyter": {
     "outputs_hidden": true
    }
   },
   "outputs": [],
   "source": [
    "%run ../_resources/00-setup"
   ]
  },
  {
   "cell_type": "markdown",
   "metadata": {
    "application/vnd.databricks.v1+cell": {
     "cellMetadata": {},
     "inputWidgets": {},
     "nuid": "2f2a2544-d5d2-4aaf-b1b2-a1f42d6caf68",
     "showTitle": false,
     "tableResultSettingsMap": {},
     "title": ""
    }
   },
   "source": [
    "## Programmatically find best run and push model to the Unity Catalog for validation\n",
    "\n",
    "We have completed the training runs to find a candidate __Challenger__ model. We'll programatically select the best model from our last ML experiment and register it to Unity Catalog. We can easily do that using MLFlow `search_runs` API:"
   ]
  },
  {
   "cell_type": "code",
   "execution_count": 0,
   "metadata": {
    "application/vnd.databricks.v1+cell": {
     "cellMetadata": {},
     "inputWidgets": {},
     "nuid": "c8b95860-784e-463c-b6df-9e646c544d61",
     "showTitle": false,
     "tableResultSettingsMap": {},
     "title": ""
    }
   },
   "outputs": [],
   "source": [
    "import mlflow\n",
    "\n",
    "churn_experiment_name = \"churn_auto_ml\"\n",
    "model_name = f\"{catalog}.{db}.mlops_churn\"\n",
    "print(f\"Finding best run from {churn_experiment_name}_* and pushing new model version to {model_name}\")\n",
    "\n",
    "xp_path = \"/Shared/dbdemos/experiments/mlops\"\n",
    "experiment_id = mlflow.search_experiments(filter_string=f\"name LIKE '{xp_path}%'\", order_by=[\"last_update_time DESC\"])[0].experiment_id\n",
    "print(experiment_id)"
   ]
  },
  {
   "cell_type": "code",
   "execution_count": 0,
   "metadata": {
    "application/vnd.databricks.v1+cell": {
     "cellMetadata": {},
     "inputWidgets": {},
     "nuid": "f0b57b12-9543-45d9-b38f-56df96d811b5",
     "showTitle": false,
     "tableResultSettingsMap": {},
     "title": ""
    }
   },
   "outputs": [],
   "source": [
    "# Let's get our best ml run\n",
    "best_model = mlflow.search_runs(\n",
    "  experiment_ids=experiment_id,\n",
    "  order_by=[\"metrics.test_f1_score DESC\"],\n",
    "  max_results=1,\n",
    "  filter_string=\"status = 'FINISHED' and run_name='mlops_best_run'\" #filter on mlops_best_run to always use the notebook 02 to have a more predictable demo\n",
    ")\n",
    "# Optional: Load MLflow Experiment as a spark df and see all runs\n",
    "# df = spark.read.format(\"mlflow-experiment\").load(experiment_id)\n",
    "best_model"
   ]
  },
  {
   "cell_type": "markdown",
   "metadata": {
    "application/vnd.databricks.v1+cell": {
     "cellMetadata": {},
     "inputWidgets": {},
     "nuid": "a4903ef4-7ae6-4ff8-89db-8e4a5c06651b",
     "showTitle": false,
     "tableResultSettingsMap": {},
     "title": ""
    }
   },
   "source": [
    "Once we have our best model, we can now register it to the Unity Catalog Model Registry using it's run ID"
   ]
  },
  {
   "cell_type": "code",
   "execution_count": 0,
   "metadata": {
    "application/vnd.databricks.v1+cell": {
     "cellMetadata": {},
     "inputWidgets": {},
     "nuid": "a437b179-9e5e-43fe-acf8-c70678b80a06",
     "showTitle": false,
     "tableResultSettingsMap": {},
     "title": ""
    }
   },
   "outputs": [],
   "source": [
    "print(f\"Registering model to {model_name}\")  # {model_name} is defined in the setup script\n",
    "\n",
    "# Get the run id from the best model\n",
    "run_id = best_model.iloc[0]['run_id']\n",
    "\n",
    "# Register best model from experiments run to MLflow model registry\n",
    "model_details = mlflow.register_model(f\"runs:/{run_id}/sklearn_model\", model_name)"
   ]
  },
  {
   "cell_type": "markdown",
   "metadata": {
    "application/vnd.databricks.v1+cell": {
     "cellMetadata": {},
     "inputWidgets": {},
     "nuid": "a45f509d-3e54-4775-9017-46894ae1236d",
     "showTitle": false,
     "tableResultSettingsMap": {},
     "title": ""
    }
   },
   "source": [
    "At this point the model does not yet have any aliases or description that indicates its lifecycle and meta-data/info.  Let's update this information."
   ]
  },
  {
   "cell_type": "markdown",
   "metadata": {
    "application/vnd.databricks.v1+cell": {
     "cellMetadata": {},
     "inputWidgets": {},
     "nuid": "c94140c3-f32f-4249-908b-653f50aed62c",
     "showTitle": false,
     "tableResultSettingsMap": {},
     "title": ""
    }
   },
   "source": [
    "## Give the registered model a description\n",
    "\n",
    "We'll do this for the registered model overall."
   ]
  },
  {
   "cell_type": "code",
   "execution_count": 0,
   "metadata": {
    "application/vnd.databricks.v1+cell": {
     "cellMetadata": {},
     "inputWidgets": {},
     "nuid": "2e788548-fadb-4e1e-a5f5-84a7f6847022",
     "showTitle": false,
     "tableResultSettingsMap": {},
     "title": ""
    }
   },
   "outputs": [],
   "source": [
    "from mlflow import MlflowClient\n",
    "\n",
    "client = MlflowClient()\n",
    "\n",
    "# The main model description, typically done once.\n",
    "client.update_registered_model(\n",
    "  name=model_details.name,\n",
    "  description=\"This model predicts whether a customer will churn using the features in the mlops_churn_training table. It is used to power the Telco Churn Dashboard in DB SQL.\",\n",
    ")"
   ]
  },
  {
   "cell_type": "markdown",
   "metadata": {
    "application/vnd.databricks.v1+cell": {
     "cellMetadata": {},
     "inputWidgets": {},
     "nuid": "d8087e2a-c7fd-4679-8d1f-4b53c59f1ba0",
     "showTitle": false,
     "tableResultSettingsMap": {},
     "title": ""
    }
   },
   "source": [
    "And add some more details on the new version we just registered"
   ]
  },
  {
   "cell_type": "code",
   "execution_count": 0,
   "metadata": {
    "application/vnd.databricks.v1+cell": {
     "cellMetadata": {},
     "inputWidgets": {},
     "nuid": "671a80f5-6b12-4415-bb3f-bef16ad46e2f",
     "showTitle": false,
     "tableResultSettingsMap": {},
     "title": ""
    }
   },
   "outputs": [],
   "source": [
    "# Provide more details on this specific model version\n",
    "best_score = best_model['metrics.test_f1_score'].values[0]\n",
    "run_name = best_model['tags.mlflow.runName'].values[0]\n",
    "version_desc = f\"This model version has an F1 validation metric of {round(best_score,4)*100}%. Follow the link to its training run for more details.\"\n",
    "\n",
    "client.update_model_version(\n",
    "  name=model_details.name,\n",
    "  version=model_details.version,\n",
    "  description=version_desc\n",
    ")\n",
    "\n",
    "# We can also tag the model version with the F1 score for visibility\n",
    "client.set_model_version_tag(\n",
    "  name=model_details.name,\n",
    "  version=model_details.version,\n",
    "  key=\"f1_score\",\n",
    "  value=f\"{round(best_score,4)}\"\n",
    ")"
   ]
  },
  {
   "cell_type": "markdown",
   "metadata": {
    "application/vnd.databricks.v1+cell": {
     "cellMetadata": {},
     "inputWidgets": {},
     "nuid": "0677cc84-567a-4120-80f9-d45e0ae80f50",
     "showTitle": false,
     "tableResultSettingsMap": {},
     "title": ""
    }
   },
   "source": [
    "## Set the latest model version as the Challenger model\n",
    "\n",
    "We will set this newly registered model version as the __Challenger__ model. Challenger models are candidate models to replace the Champion model, which is the model currently in use.\n",
    "\n",
    "We will use the model's alias to indicate the stage it is at in its lifecycle."
   ]
  },
  {
   "cell_type": "code",
   "execution_count": 0,
   "metadata": {
    "application/vnd.databricks.v1+cell": {
     "cellMetadata": {},
     "inputWidgets": {},
     "nuid": "eb3cf48f-4ea7-4f52-96f4-9350a506fe15",
     "showTitle": false,
     "tableResultSettingsMap": {},
     "title": ""
    }
   },
   "outputs": [],
   "source": [
    "# Set this version as the Challenger model, using its model alias\n",
    "client.set_registered_model_alias(\n",
    "  name=model_name,\n",
    "  alias=\"Challenger\",\n",
    "  version=model_details.version\n",
    ")"
   ]
  },
  {
   "cell_type": "markdown",
   "metadata": {
    "application/vnd.databricks.v1+cell": {
     "cellMetadata": {},
     "inputWidgets": {},
     "nuid": "498c5ee7-2fb7-42a7-afc9-b369d1aa88e4",
     "showTitle": false,
     "tableResultSettingsMap": {},
     "title": ""
    }
   },
   "source": [
    "\n",
    "Now, visually inspect the model verions in Unity Catalog Explorer. You should see the version description and `Challenger` alias applied to the version."
   ]
  },
  {
   "cell_type": "markdown",
   "metadata": {
    "application/vnd.databricks.v1+cell": {
     "cellMetadata": {},
     "inputWidgets": {},
     "nuid": "a02aadef-86c3-4134-ba37-90649813b3cc",
     "showTitle": false,
     "tableResultSettingsMap": {},
     "title": ""
    }
   },
   "source": [
    "## Next: Validation of the Challenger model\n",
    "\n",
    "At this point, with the __Challenger__ model registered, we would like to validate the model. The validation steps are implemented in a notebook, so that the validation process can be automated as part of a Databricks Workflow job.\n",
    "\n",
    "If the model passes all the tests, it'll be promoted to `Champion`.\n",
    "\n",
    "Next: Find out how the model is being tested befored being promoted as `Champion` [using the model validation notebook]($./04_challenger_validation)"
   ]
  }
 ],
 "metadata": {
  "application/vnd.databricks.v1+notebook": {
   "computePreferences": null,
   "dashboards": [],
   "environmentMetadata": {
    "environment_version": "2"
   },
   "language": "python",
   "notebookMetadata": {
    "pythonIndentUnit": 2
   },
   "notebookName": "03_from_notebook_to_models_in_uc",
   "widgets": {}
  },
  "language_info": {
   "name": "python"
  }
 },
 "nbformat": 4,
 "nbformat_minor": 0
}
