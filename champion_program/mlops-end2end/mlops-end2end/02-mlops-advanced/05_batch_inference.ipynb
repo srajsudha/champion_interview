{
 "cells": [
  {
   "cell_type": "markdown",
   "metadata": {
    "application/vnd.databricks.v1+cell": {
     "cellMetadata": {},
     "inputWidgets": {},
     "nuid": "31ae3d62-7bed-4863-b853-f3bb9f6244b0",
     "showTitle": false,
     "tableResultSettingsMap": {},
     "title": ""
    }
   },
   "source": [
    "# Churn Prediction Model Inference\n",
    "\n",
    "## Inference with the Champion model\n",
    "\n",
    "Models in Unity Catalog can be loaded for use in batch inference pipelines. Generated predictions would be used to advise on customer retention strategies, or be used for analytics. The model in use is the __@Champion__ model, and we will load it for use in our pipeline.\n",
    "\n",
    "<img src=\"https://github.com/databricks-demos/dbdemos-resources/blob/main/images/product/mlops/advanced/banners/mlflow-uc-end-to-end-advanced-5.png?raw=true\" width=\"1200\">\n",
    "\n",
    "<!-- Collect usage data (view). Remove it to disable collection or disable tracker during installation. View README for more details.  -->\n",
    "<img width=\"1px\" src=\"https://ppxrzfxige.execute-api.us-west-2.amazonaws.com/v1/analytics?category=data-science&org_id=3227024006299960&notebook=%2F02-mlops-advanced%2F05_batch_inference&demo_name=mlops-end2end&event=VIEW&path=%2F_dbdemos%2Fdata-science%2Fmlops-end2end%2F02-mlops-advanced%2F05_batch_inference&version=1\">"
   ]
  },
  {
   "cell_type": "code",
   "execution_count": 0,
   "metadata": {
    "application/vnd.databricks.v1+cell": {
     "cellMetadata": {},
     "inputWidgets": {},
     "nuid": "66854271-fbef-4911-bad2-dbd3109e9fd9",
     "showTitle": true,
     "tableResultSettingsMap": {},
     "title": "Install MLflow version for model lineage in UC [for MLR < 15.2]"
    }
   },
   "outputs": [],
   "source": [
    "%pip install --quiet mlflow==2.19 databricks-feature-engineering==0.8.0\n",
    "dbutils.library.restartPython()"
   ]
  },
  {
   "cell_type": "code",
   "execution_count": 0,
   "metadata": {
    "application/vnd.databricks.v1+cell": {
     "cellMetadata": {},
     "inputWidgets": {},
     "nuid": "ed8ef709-0380-480f-8b6f-400dc4691952",
     "showTitle": false,
     "tableResultSettingsMap": {},
     "title": ""
    },
    "jupyter": {
     "outputs_hidden": true
    }
   },
   "outputs": [],
   "source": [
    "%run ../_resources/00-setup $adv_mlops=true $setup_adv_inference_data=true"
   ]
  },
  {
   "cell_type": "markdown",
   "metadata": {
    "application/vnd.databricks.v1+cell": {
     "cellMetadata": {},
     "inputWidgets": {},
     "nuid": "83a7f019-6b9b-4ebd-870a-64a85493d5d4",
     "showTitle": false,
     "tableResultSettingsMap": {},
     "title": ""
    }
   },
   "source": [
    "##Deploying the model for batch inferences\n",
    "\n",
    "<!--img style=\"float: right; margin-left: 20px\" width=\"600\" src=\"https://github.com/QuentinAmbard/databricks-demo/raw/main/retail/resources/images/churn_batch_inference.gif\" /-->\n",
    "\n",
    "Now that our model is available in the Unity Catalog Model Registry, we can load it to compute our inferences and save them in a table to start building dashboards.\n",
    "\n",
    "We will use the feature engineering client's `score_batch` method which would automatically load a pyspark UDF and distribute the inference on the entire cluster. If the data is small, we can also load the model in plain python and use a pandas Dataframe.\n",
    "\n",
    "If you don't know how to start, you can get sample code from the __\"Artifacts\"__ page of the model's experiment run."
   ]
  },
  {
   "cell_type": "markdown",
   "metadata": {
    "application/vnd.databricks.v1+cell": {
     "cellMetadata": {},
     "inputWidgets": {},
     "nuid": "e0ae8c91-4e69-4716-a17f-81962a7b59de",
     "showTitle": false,
     "tableResultSettingsMap": {},
     "title": ""
    }
   },
   "source": [
    "## Run inferences"
   ]
  },
  {
   "cell_type": "markdown",
   "metadata": {
    "application/vnd.databricks.v1+cell": {
     "cellMetadata": {},
     "inputWidgets": {},
     "nuid": "bb2120c0-7c8f-4271-942f-96a72905012a",
     "showTitle": false,
     "tableResultSettingsMap": {},
     "title": ""
    }
   },
   "source": [
    "### Batch inference on the Champion model\n",
    "\n",
    "We are ready to run inference on the Champion model. We will leverage the feature engineering client's `score_batch` method and generate predictions for our customer records.\n",
    "\n",
    "For simplicity, we assume that features have been pre-computed for all new customer records and already stored in a feature table. These are typically done by separate feature engineering pipelines."
   ]
  },
  {
   "cell_type": "code",
   "execution_count": 0,
   "metadata": {
    "application/vnd.databricks.v1+cell": {
     "cellMetadata": {},
     "inputWidgets": {},
     "nuid": "33935c8e-5f42-45da-96ae-e0bc9dc9be17",
     "showTitle": true,
     "tableResultSettingsMap": {},
     "title": "In a python notebook"
    }
   },
   "outputs": [],
   "source": [
    "from databricks.feature_engineering import FeatureEngineeringClient\n",
    "import pyspark.sql.functions as F\n",
    "\n",
    "# Load customer features to be scored\n",
    "inference_df = spark.read.table(\"advanced_churn_cust_ids\")\n",
    "\n",
    "fe = FeatureEngineeringClient()\n",
    "\n",
    "# Fully qualified model name\n",
    "model_name = f\"{catalog}.{db}.advanced_mlops_churn\"\n",
    "\n",
    "# Model URI\n",
    "model_uri = f\"models:/{model_name}@Champion\"\n",
    "\n",
    "# Batch score\n",
    "preds_df = fe.score_batch(df=inference_df, model_uri=model_uri, result_type=\"string\")\n",
    "display(preds_df)"
   ]
  },
  {
   "cell_type": "markdown",
   "metadata": {
    "application/vnd.databricks.v1+cell": {
     "cellMetadata": {},
     "inputWidgets": {},
     "nuid": "a92b241d-f5ca-4da2-b08b-d314ffb4cee4",
     "showTitle": false,
     "tableResultSettingsMap": {},
     "title": ""
    }
   },
   "source": [
    "\n",
    "That's it! Our data can now be saved as a table and re-used by the Data Analyst / Marketing team to take special action and reduce Churn risk on these customers!\n",
    "\n",
    "Your data will also be available within Genie to answer any churn-related question using plain text english!"
   ]
  },
  {
   "cell_type": "markdown",
   "metadata": {
    "application/vnd.databricks.v1+cell": {
     "cellMetadata": {},
     "inputWidgets": {},
     "nuid": "c92a17d6-f425-47a4-b0e7-4d393e5e7351",
     "showTitle": false,
     "tableResultSettingsMap": {},
     "title": ""
    }
   },
   "source": [
    "### Save the predictions for monitoring\n",
    "\n",
    "Since we want to monitor the model and its predictions over time, we will save the predictions, along with information on the model used to produce them. This table can then be monitored for feature drift and prediction drift.\n",
    "\n",
    "Note that this table does not have the ground truth labels. These are usually collected and made available over time, and in many cases, may not even be available! However, this does not stop us from monitoring the data for drift, as that alone may be a sign that the model has to be retrained.\n",
    "\n",
    "The table displayed below is saved into `advanced_churn_offline_inference`. It includes the model version used for scoring, the model alias, the predictions and timestamp when the inference was made. It does not contain any labels.\n"
   ]
  },
  {
   "cell_type": "code",
   "execution_count": 0,
   "metadata": {
    "application/vnd.databricks.v1+cell": {
     "cellMetadata": {},
     "inputWidgets": {},
     "nuid": "75f4843f-ead8-4774-8d89-3ac7252eae4e",
     "showTitle": false,
     "tableResultSettingsMap": {},
     "title": ""
    }
   },
   "outputs": [],
   "source": [
    "from mlflow import MlflowClient\n",
    "from datetime import datetime\n",
    "client = MlflowClient()\n",
    "\n",
    "model = client.get_registered_model(name=model_name)\n",
    "model_version = int(client.get_model_version_by_alias(name=model_name, alias=\"Champion\").version)"
   ]
  },
  {
   "cell_type": "code",
   "execution_count": 0,
   "metadata": {
    "application/vnd.databricks.v1+cell": {
     "cellMetadata": {},
     "inputWidgets": {},
     "nuid": "5ed4a42d-4a51-4a82-bb2c-38f8f5ff1dc5",
     "showTitle": false,
     "tableResultSettingsMap": {},
     "title": ""
    }
   },
   "outputs": [],
   "source": [
    "import pyspark.sql.functions as F\n",
    "from datetime import datetime, timedelta\n",
    "\n",
    "offline_inference_df = preds_df.withColumn(\"model_name\", F.lit(model_name)) \\\n",
    "                              .withColumn(\"model_version\", F.lit(model_version)) \\\n",
    "                              .withColumn(\"model_alias\", F.lit(\"Champion\")) \\\n",
    "                              .withColumn(\"inference_timestamp\", F.lit(datetime.now()- timedelta(days=2)))\n",
    "\n",
    "offline_inference_df.write.mode(\"overwrite\") \\\n",
    "                    .saveAsTable(\"advanced_churn_offline_inference\")\n",
    "\n",
    "display(offline_inference_df)"
   ]
  },
  {
   "cell_type": "markdown",
   "metadata": {
    "application/vnd.databricks.v1+cell": {
     "cellMetadata": {},
     "inputWidgets": {},
     "nuid": "5a63c8a9-64a2-4047-aa73-152312f5d1c7",
     "showTitle": false,
     "tableResultSettingsMap": {},
     "title": ""
    }
   },
   "source": [
    "### Congratulations! You have successfully used the model for batch inference.\n",
    "\n",
    "Let's look at how we can deploy this model as a REST API endpoint for real-time inference.\n",
    "\n",
    "Next:  [Serve the features and model in real-time]($./06_serve_features_and_model)"
   ]
  }
 ],
 "metadata": {
  "application/vnd.databricks.v1+notebook": {
   "computePreferences": null,
   "dashboards": [],
   "environmentMetadata": {
    "environment_version": "2"
   },
   "language": "python",
   "notebookMetadata": {
    "pythonIndentUnit": 2
   },
   "notebookName": "05_batch_inference",
   "widgets": {}
  },
  "language_info": {
   "name": "python"
  }
 },
 "nbformat": 4,
 "nbformat_minor": 0
}
