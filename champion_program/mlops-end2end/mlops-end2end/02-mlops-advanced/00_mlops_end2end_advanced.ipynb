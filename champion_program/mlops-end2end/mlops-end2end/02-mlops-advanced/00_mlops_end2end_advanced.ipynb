{
 "cells": [
  {
   "cell_type": "markdown",
   "metadata": {
    "application/vnd.databricks.v1+cell": {
     "cellMetadata": {},
     "inputWidgets": {},
     "nuid": "e5932dbc-3dcf-45fe-80b6-adfe60747a55",
     "showTitle": false,
     "tableResultSettingsMap": {},
     "title": ""
    }
   },
   "source": [
    "# End-to-End MLOps demo with MLFlow, Auto ML and Models in Unity Catalog\n",
    "\n",
    "## Challenges moving ML project into production\n",
    "\n",
    "Moving ML project from a standalone notebook to a production-grade data pipeline is complex and require multiple competencies.\n",
    "\n",
    "Having a model up and running in a notebook isn't enough. We need to cover the end to end ML Project life cycle and solve the following challenges:\n",
    "\n",
    "* Update data over time (production-grade ingestion pipeline)\n",
    "* How to save, share and re-use ML features in the organization\n",
    "* How to ensure a new model version respect quality standard and won't break the pipeline\n",
    "* Model governance: what is deployed, how is it trained, by who, which data?\n",
    "* How to monitor and re-train the model...\n",
    "\n",
    "In addition, these project typically invole multiple teams, creating friction and potential silos\n",
    "\n",
    "* Data Engineers, in charge of ingesting, preparing and exposing the data\n",
    "* Data Scientist, expert in data analysis, building ML model\n",
    "* ML engineers, setuping the ML infrastructure pipelines (similar to devops)\n",
    "\n",
    "This has a real impact on the business, slowing down projects and preventing them from being deployed in production and bringing ROI.\n",
    "\n",
    "## What's MLOps ?\n",
    "\n",
    "MLOps is is a set of standards, tools, processes and methodology that aims to optimize time, efficiency and quality while ensuring governance in ML projects.\n",
    "\n",
    "MLOps orchestrate a project life-cycle and adds the glue required between the component and teams to smoothly implement such ML pipelines.\n",
    "\n",
    "Databricks is uniquely positioned to solve this challenge with the Lakehouse pattern. Not only we bring Data Engineers, Data Scientists and ML Engineers together in a unique platform, but we also provide tools to orchestrate ML project and accelerate the go to production.\n",
    "\n",
    "## MLOps process walkthrough\n",
    "\n",
    "In the first [quickstart notebooks]($../01-mlops-quickstart/00_mlops_end2end_quickstart_presentation), we have covered a few common steps in the MLOps process. Now that you have mastered the foundation of MLOps, we'll dive into a more complete, end-to-end workflow. The end result of this process is a model used to power a dashboard for downstream business stakeholders, as well as a REST API endpoint that can make predictions in real-time.\n",
    "\n",
    "This end-to-end MLOps workflow involes:\n",
    "\n",
    "* preparing features, functions computing and persisting to an offline feature store\n",
    "* training a model for deployment\n",
    "* registering the model for its use to be goverened\n",
    "* validating the model in a champion-challenger analysis\n",
    "* invoking a trained ML model as part of a batch inference job\n",
    "* deploying features for real-time feature lookup\n",
    "* deploying the model to a real-time serving endpoint\n",
    "* monitoring data and model drift\n",
    "* detecting drift and retraining the model\n",
    "\n",
    "Run this demo on a __DBR 15.4 ML LTS__ cluster. A demo cluster has been created for you.\n",
    "\n",
    "<br>\n",
    "\n",
    "<img src=\"https://github.com/databricks-demos/dbdemos-resources/blob/main/images/product/mlops/advanced/banners/mlflow-uc-end-to-end-advanced-0.png?raw=true\" width=\"1200\">\n",
    "\n",
    "<!-- Collect usage data (view). Remove it to disable collection or disable tracker during installation. View README for more details.  -->\n",
    "<img width=\"1px\" src=\"https://ppxrzfxige.execute-api.us-west-2.amazonaws.com/v1/analytics?category=data-science&org_id=3227024006299960&notebook=%2F02-mlops-advanced%2F00_mlops_end2end_advanced&demo_name=mlops-end2end&event=VIEW&path=%2F_dbdemos%2Fdata-science%2Fmlops-end2end%2F02-mlops-advanced%2F00_mlops_end2end_advanced&version=1\">"
   ]
  },
  {
   "cell_type": "code",
   "execution_count": 0,
   "metadata": {
    "application/vnd.databricks.v1+cell": {
     "cellMetadata": {},
     "inputWidgets": {},
     "nuid": "a1ff5718-1cbb-4b26-8f46-8965b1d1d958",
     "showTitle": false,
     "tableResultSettingsMap": {},
     "title": ""
    }
   },
   "outputs": [],
   "source": [
    " %pip install mlflow==2.19"
   ]
  },
  {
   "cell_type": "code",
   "execution_count": 0,
   "metadata": {
    "application/vnd.databricks.v1+cell": {
     "cellMetadata": {},
     "inputWidgets": {},
     "nuid": "7768942b-1b9a-46dc-bf14-a93865091ec8",
     "showTitle": false,
     "tableResultSettingsMap": {},
     "title": ""
    },
    "jupyter": {
     "outputs_hidden": true
    }
   },
   "outputs": [],
   "source": [
    "%run ../_resources/00-setup $reset_all_data=true $adv_mlops=true "
   ]
  },
  {
   "cell_type": "markdown",
   "metadata": {
    "application/vnd.databricks.v1+cell": {
     "cellMetadata": {},
     "inputWidgets": {},
     "nuid": "dc5986aa-9174-436f-9327-2f4d43de06dc",
     "showTitle": false,
     "tableResultSettingsMap": {},
     "title": ""
    }
   },
   "source": [
    "## Customer churn detection\n",
    "\n",
    "Just as we did in the Quickstart example, we'll be implementing a customer churn model to illustrate advanced concepts in MLOps.\n",
    "\n",
    "Our marketing team asked us to create a Dashboard tracking Churn risk evolution. In addition, we need to provide our renewal team with a daily list of customers at Churn risk to increase our final revenue. We also need to use the model in an online application to identify likely churners and take action to retain them.\n",
    "\n",
    "Our Data Engineer team provided us a dataset collecting information on our customer base, including churn information. That's where our implementation starts.\n",
    "\n",
    "Let's see how we can implement such a model, but also provide our marketing and renewal team with Dashboards to track and analyze our Churn prediction.\n",
    "\n",
    "Ultimately, you'll build able to build a complete DBSQL Churn Dashboard containing all our customer & churn information, but also start a Genie space to ask any question using plain english!"
   ]
  },
  {
   "cell_type": "code",
   "execution_count": 0,
   "metadata": {
    "application/vnd.databricks.v1+cell": {
     "cellMetadata": {},
     "inputWidgets": {},
     "nuid": "b2716811-00b0-48fe-a49a-6eb55c579936",
     "showTitle": false,
     "tableResultSettingsMap": {},
     "title": ""
    }
   },
   "outputs": [],
   "source": [
    "telcoDF = spark.table(\"advanced_churn_bronze_customers\")\n",
    "display(telcoDF)"
   ]
  },
  {
   "cell_type": "markdown",
   "metadata": {
    "application/vnd.databricks.v1+cell": {
     "cellMetadata": {},
     "inputWidgets": {},
     "nuid": "15718cb5-a7ad-46e9-ba13-4edc4d6f49af",
     "showTitle": false,
     "tableResultSettingsMap": {},
     "title": ""
    }
   },
   "source": [
    "## Feature Engineering\n",
    "Our first job is to analyze the data, and prepare a set of features.\n",
    "\n",
    "\n",
    "Next: [Analyze the data and prepare features]($./01_feature_engineering)"
   ]
  }
 ],
 "metadata": {
  "application/vnd.databricks.v1+notebook": {
   "computePreferences": null,
   "dashboards": [],
   "environmentMetadata": {
    "environment_version": "2"
   },
   "language": "python",
   "notebookMetadata": {
    "pythonIndentUnit": 2
   },
   "notebookName": "00_mlops_end2end_advanced",
   "widgets": {}
  },
  "language_info": {
   "name": "python"
  }
 },
 "nbformat": 4,
 "nbformat_minor": 0
}
