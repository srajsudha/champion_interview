{
 "cells": [
  {
   "cell_type": "markdown",
   "metadata": {
    "application/vnd.databricks.v1+cell": {
     "cellMetadata": {},
     "inputWidgets": {},
     "nuid": "a6f24623-fff1-4abc-9178-c9e141f4abe9",
     "showTitle": false,
     "tableResultSettingsMap": {},
     "title": ""
    }
   },
   "source": [
    "# End-to-End MLOps demo with MLFlow, Auto ML and Models in Unity Catalog\n",
    "\n",
    "## Challenges moving ML project into production\n",
    "\n",
    "Moving ML project from a standalone notebook to a production-grade data pipeline is complex and require multiple competencies.\n",
    "\n",
    "Having a model up and running in a notebook isn't enough. We need to cover the end to end ML Project life cycle and solve the following challenges:\n",
    "\n",
    "* Update data over time (production-grade ingestion pipeline)\n",
    "* How to save, share and re-use ML features in the organization\n",
    "* How to ensure a new model version respect quality standard and won't break the pipeline\n",
    "* Model governance: what is deployed, how is it trained, by who, which data?\n",
    "* How to monitor and re-train the model...\n",
    "\n",
    "In addition, these project typically invole multiple teams, creating friction and potential silos\n",
    "\n",
    "* Data Engineers, in charge of ingesting, preparing and exposing the data\n",
    "* Data Scientist, expert in data analysis, building ML model\n",
    "* ML engineers, setuping the ML infrastructure pipelines (similar to devops)\n",
    "\n",
    "This has a real impact on the business, slowing down projects and preventing them from being deployed in production and bringing ROI.\n",
    "\n",
    "## What's MLOps ?\n",
    "\n",
    "MLOps is is a set of standards, tools, processes and methodology that aims to optimize time, efficiency and quality while ensuring governance in ML projects.\n",
    "\n",
    "MLOps orchestrate a project life-cycle and adds the glue required between the component and teams to smoothly implement such ML pipelines.\n",
    "\n",
    "Databricks is uniquely positioned to solve this challenge with the Lakehouse pattern. Not only we bring Data Engineers, Data Scientists and ML Engineers together in a unique platform, but we also provide tools to orchestrate ML project and accelerate the go to production.\n",
    "\n",
    "## MLOps process walkthrough\n",
    "\n",
    "In this quickstart demo, we'll walkthrough a few common steps in the MLOps process. The end result of this process is a model used to power a dashboard for downstream business stakeholders which is:\n",
    "* preparing features\n",
    "* training a model for deployment\n",
    "* registering the model for its use to be goverened\n",
    "* validating the model in a champion-challenger analysis\n",
    "* invoking a trained ML model as a pySpark UDF\n",
    "\n",
    "\n",
    "<img src=\"https://github.com/databricks-demos/dbdemos-resources/blob/main/images/product/mlops/mlops-uc-end2end-0.png?raw=true\" width=\"1200\">\n",
    "\n",
    "<!-- Collect usage data (view). Remove it to disable collection or disable tracker during installation. View README for more details.  -->\n",
    "<img width=\"1px\" src=\"https://ppxrzfxige.execute-api.us-west-2.amazonaws.com/v1/analytics?category=data-science&org_id=3227024006299960&notebook=%2F01-mlops-quickstart%2F00_mlops_end2end_quickstart_presentation&demo_name=mlops-end2end&event=VIEW&path=%2F_dbdemos%2Fdata-science%2Fmlops-end2end%2F01-mlops-quickstart%2F00_mlops_end2end_quickstart_presentation&version=1\">"
   ]
  },
  {
   "cell_type": "markdown",
   "metadata": {
    "application/vnd.databricks.v1+cell": {
     "cellMetadata": {},
     "inputWidgets": {},
     "nuid": "b9633a02-a0ad-4224-b445-32f1910741a6",
     "showTitle": false,
     "tableResultSettingsMap": {},
     "title": ""
    }
   },
   "source": [
    "In this first quickstart, we'll cover the foundation of MLOps.\n",
    "\n",
    "The advanced section will go into more details, including:\n",
    "- Model serving\n",
    "- Realtime Feature serving with Online Tables\n",
    "- A/B testing \n",
    "- Automated re-training\n",
    "- Infra setup abd hooks with Databricks MLOps Stack\n",
    "- ..."
   ]
  },
  {
   "cell_type": "code",
   "execution_count": 0,
   "metadata": {
    "application/vnd.databricks.v1+cell": {
     "cellMetadata": {},
     "inputWidgets": {},
     "nuid": "2e2bfe64-05a0-4e17-97ad-3a7c67762f0a",
     "showTitle": false,
     "tableResultSettingsMap": {},
     "title": ""
    }
   },
   "outputs": [],
   "source": [
    "%pip install mlflow==\"2.19\""
   ]
  },
  {
   "cell_type": "code",
   "execution_count": 0,
   "metadata": {
    "application/vnd.databricks.v1+cell": {
     "cellMetadata": {},
     "inputWidgets": {},
     "nuid": "a40df4ac-f4d3-403b-90f1-23e93ca4aa71",
     "showTitle": false,
     "tableResultSettingsMap": {},
     "title": ""
    },
    "jupyter": {
     "outputs_hidden": true
    }
   },
   "outputs": [],
   "source": [
    "%run ../_resources/00-setup"
   ]
  },
  {
   "cell_type": "markdown",
   "metadata": {
    "application/vnd.databricks.v1+cell": {
     "cellMetadata": {},
     "inputWidgets": {},
     "nuid": "a06a8094-f4f4-43b0-92fe-7c91a7315f24",
     "showTitle": false,
     "tableResultSettingsMap": {},
     "title": ""
    }
   },
   "source": [
    "## Customer churn detection\n",
    "\n",
    "To explore MLOps, we'll be implementing a customer churn model.\n",
    "\n",
    "Our marketing team asked us to create a Dashboard tracking Churn risk evolution. In addition, we need to provide our renewal team with a daily list of customers at Churn risk to increase our final revenue.\n",
    "\n",
    "Our Data Engineer team provided us a dataset collecting information on our customer base, including churn information. That's where our implementation starts.\n",
    "\n",
    "Let's see how we can implement such a model, but also provide our marketing and renewal team with Dashboards to track and analyze our Churn prediction.\n",
    "\n",
    "Ultimately, you'll build able to build a complete DBSQL Churn Dashboard containing all our customer & churn information, but also start a Genie space to ask any question using plain english!"
   ]
  },
  {
   "cell_type": "code",
   "execution_count": 0,
   "metadata": {
    "application/vnd.databricks.v1+cell": {
     "cellMetadata": {},
     "inputWidgets": {},
     "nuid": "7c535405-0eba-44a1-b66d-357166e6f63e",
     "showTitle": true,
     "tableResultSettingsMap": {},
     "title": "Exploring our customer dataset"
    }
   },
   "outputs": [],
   "source": [
    "telcoDF = spark.table(\"mlops_churn_bronze_customers\")\n",
    "display(telcoDF)"
   ]
  },
  {
   "cell_type": "markdown",
   "metadata": {
    "application/vnd.databricks.v1+cell": {
     "cellMetadata": {},
     "inputWidgets": {},
     "nuid": "4d88908d-5193-4309-9977-f0763ed96032",
     "showTitle": false,
     "tableResultSettingsMap": {},
     "title": ""
    }
   },
   "source": [
    "## Feature Engineering\n",
    "Our first job is to analyze the data, and prepare a set of features.\n",
    "\n",
    "\n",
    "Next: [Analyze the data and prepare features]($./01_feature_engineering)"
   ]
  }
 ],
 "metadata": {
  "application/vnd.databricks.v1+notebook": {
   "computePreferences": null,
   "dashboards": [],
   "environmentMetadata": {
    "environment_version": "2"
   },
   "language": "python",
   "notebookMetadata": {
    "pythonIndentUnit": 2
   },
   "notebookName": "00_mlops_end2end_quickstart_presentation",
   "widgets": {}
  },
  "language_info": {
   "name": "python"
  }
 },
 "nbformat": 4,
 "nbformat_minor": 0
}
