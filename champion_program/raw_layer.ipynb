{
 "cells": [
  {
   "cell_type": "markdown",
   "metadata": {
    "application/vnd.databricks.v1+cell": {
     "cellMetadata": {
      "byteLimit": 2048000,
      "rowLimit": 10000
     },
     "inputWidgets": {},
     "nuid": "be51e5f7-1100-4664-8e64-630a10961423",
     "showTitle": false,
     "tableResultSettingsMap": {},
     "title": ""
    }
   },
   "source": [
    "###This notebook will read raw messages from azure data lake"
   ]
  },
  {
   "cell_type": "code",
   "execution_count": 0,
   "metadata": {
    "application/vnd.databricks.v1+cell": {
     "cellMetadata": {
      "byteLimit": 2048000,
      "rowLimit": 10000
     },
     "inputWidgets": {},
     "nuid": "527af8e6-06bd-483b-9031-71616e5c47cc",
     "showTitle": false,
     "tableResultSettingsMap": {},
     "title": ""
    }
   },
   "outputs": [],
   "source": [
    "%run ./utlis"
   ]
  },
  {
   "cell_type": "code",
   "execution_count": 0,
   "metadata": {
    "application/vnd.databricks.v1+cell": {
     "cellMetadata": {
      "byteLimit": 2048000,
      "rowLimit": 10000
     },
     "inputWidgets": {},
     "nuid": "c344a4cd-1b8f-4f02-a428-b9e03c1acbef",
     "showTitle": false,
     "tableResultSettingsMap": {},
     "title": ""
    }
   },
   "outputs": [],
   "source": [
    "from pyspark.sql.types import *\n",
    "schema = StructType([\n",
    "    StructField(\"Name\", StringType()),\n",
    "    StructField(\"Age\", IntegerType()),\n",
    "    StructField(\"Value\", IntegerType()),\n",
    "    StructField(\"LastUpdate\", TimestampType())\n",
    "  ] )"
   ]
  },
  {
   "cell_type": "code",
   "execution_count": 0,
   "metadata": {
    "application/vnd.databricks.v1+cell": {
     "cellMetadata": {
      "byteLimit": 2048000,
      "rowLimit": 10000
     },
     "inputWidgets": {},
     "nuid": "abeccfae-2666-4896-9c60-3962012132d6",
     "showTitle": false,
     "tableResultSettingsMap": {},
     "title": ""
    }
   },
   "outputs": [],
   "source": [
    "dbutils.widgets.text(\"cloud_storage_path\", \"\", \"Cloud Storage Path\")\n",
    "dbutils.widgets.text(\"checkpoint_path\", \"\", \"Checkpoint Path\")"
   ]
  },
  {
   "cell_type": "code",
   "execution_count": 0,
   "metadata": {
    "application/vnd.databricks.v1+cell": {
     "cellMetadata": {
      "byteLimit": 2048000,
      "rowLimit": 10000
     },
     "inputWidgets": {},
     "nuid": "26c6f562-edae-4e10-8c9f-c0782d7371bf",
     "showTitle": false,
     "tableResultSettingsMap": {},
     "title": ""
    }
   },
   "outputs": [],
   "source": [
    "cloud_storage_path = dbutils.widgets.get(\"cloud_storage_path\")\n",
    "checkpoint_path = dbutils.widgets.get(\"checkpoint_path\")\n",
    "\n",
    "# Read the data\n",
    "raw_df = (spark.readStream\n",
    "          .format(\"cloudFiles\")\n",
    "          .option(\"cloudFiles.format\", \"json\")  # Change to the format of your data\n",
    "          .schema(schema)\n",
    "          .load(cloud_storage_path))\n",
    "# raw_df.printSchema()\n",
    "# display(raw_df)\n",
    "# Cast the 'value' field to integer\n",
    "# transformed_df = raw_df.withColumn(\"value\", col(\"value\").cast(\"integer\"))\n",
    "\n",
    "# Write the data to the target table\n",
    "(raw_df.writeStream\n",
    " .option(\"checkpointLocation\", checkpoint_path)\n",
    " .trigger(availableNow=True)\n",
    " .toTable(\"deloitte.sudhanshu.raw_json_data\"))\n",
    "\n",
    "# display(transformed_df)\n",
    "\n",
    "# display(df)"
   ]
  }
 ],
 "metadata": {
  "application/vnd.databricks.v1+notebook": {
   "computePreferences": null,
   "dashboards": [],
   "environmentMetadata": {
    "base_environment": "",
    "client": "2"
   },
   "language": "python",
   "notebookMetadata": {
    "pythonIndentUnit": 4
   },
   "notebookName": "raw_layer",
   "widgets": {
    "checkpoint_path": {
     "currentValue": "abfss://raw@rajdatabrickspractice.dfs.core.windows.net/raw_checkpoint/",
     "nuid": "bf062ee6-001b-4315-ba6b-c3bb31e1abd7",
     "typedWidgetInfo": {
      "autoCreated": false,
      "defaultValue": "",
      "label": "Checkpoint Path",
      "name": "checkpoint_path",
      "options": {
       "widgetDisplayType": "Text",
       "validationRegex": null
      },
      "parameterDataType": "String"
     },
     "widgetInfo": {
      "widgetType": "text",
      "defaultValue": "",
      "label": "Checkpoint Path",
      "name": "checkpoint_path",
      "options": {
       "widgetType": "text",
       "autoCreated": null,
       "validationRegex": null
      }
     }
    },
    "cloud_storage_path": {
     "currentValue": "abfss://raw@rajdatabrickspractice.dfs.core.windows.net/jsoncreateddata/",
     "nuid": "9cb4eeb5-7dec-4d15-9e49-2e773bb3d5e8",
     "typedWidgetInfo": {
      "autoCreated": false,
      "defaultValue": "",
      "label": "Cloud Storage Path",
      "name": "cloud_storage_path",
      "options": {
       "widgetDisplayType": "Text",
       "validationRegex": null
      },
      "parameterDataType": "String"
     },
     "widgetInfo": {
      "widgetType": "text",
      "defaultValue": "",
      "label": "Cloud Storage Path",
      "name": "cloud_storage_path",
      "options": {
       "widgetType": "text",
       "autoCreated": null,
       "validationRegex": null
      }
     }
    }
   }
  },
  "language_info": {
   "name": "python"
  }
 },
 "nbformat": 4,
 "nbformat_minor": 0
}
