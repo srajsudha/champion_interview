{
 "cells": [
  {
   "cell_type": "code",
   "execution_count": 0,
   "metadata": {
    "application/vnd.databricks.v1+cell": {
     "cellMetadata": {
      "byteLimit": 2048000,
      "rowLimit": 10000
     },
     "inputWidgets": {},
     "nuid": "fb91dacb-529d-43ac-9777-ea072b377ce0",
     "showTitle": false,
     "tableResultSettingsMap": {},
     "title": ""
    }
   },
   "outputs": [],
   "source": [
    "%run ../common/"
   ]
  },
  {
   "cell_type": "code",
   "execution_count": 0,
   "metadata": {
    "application/vnd.databricks.v1+cell": {
     "cellMetadata": {
      "byteLimit": 2048000,
      "rowLimit": 10000
     },
     "inputWidgets": {},
     "nuid": "def4d15b-12cf-42c8-aa2a-8aadf6090db7",
     "showTitle": false,
     "tableResultSettingsMap": {},
     "title": ""
    }
   },
   "outputs": [],
   "source": [
    "dbutils.widgets.text(\"catalog_name\", \"deloitte\", \"Catalog Name\")"
   ]
  },
  {
   "cell_type": "code",
   "execution_count": 0,
   "metadata": {
    "application/vnd.databricks.v1+cell": {
     "cellMetadata": {
      "byteLimit": 2048000,
      "rowLimit": 10000
     },
     "inputWidgets": {},
     "nuid": "465be1e1-c627-417f-984f-079b3045d099",
     "showTitle": false,
     "tableResultSettingsMap": {},
     "title": ""
    }
   },
   "outputs": [],
   "source": [
    "%python\n",
    "def main():\n",
    "    try:\n",
    "        df_json_data = read_delta_data(\"deloitte.sudhanshu.raw_json_data\")\n",
    "        df_sql_server_data = read_delta_data(\"deloitte.sudhanshu.raw_sqlserver_data\")\n",
    "        \n",
    "        joined_df = df_json_data.join(\n",
    "            df_sql_server_data,\n",
    "            df_json_data.Name == df_sql_server_data.person_name,\n",
    "            how=\"left_outer\"\n",
    "        ).select(\n",
    "            df_json_data[\"*\"],\n",
    "            df_sql_server_data[\"address_line_1\"],\n",
    "            df_sql_server_data[\"postcode\"]\n",
    "        )\n",
    "        \n",
    "        write_delta_data(joined_df, \"deloitte.sudhanshu.silver_layer_data\")\n",
    "        logger.info(\"Data processing and writing completed successfully.\")\n",
    "        \n",
    "    except Exception as e:\n",
    "        logger.error(f\"Error in main function: {e}\")\n",
    "        raise"
   ]
  },
  {
   "cell_type": "code",
   "execution_count": 0,
   "metadata": {
    "application/vnd.databricks.v1+cell": {
     "cellMetadata": {
      "byteLimit": 2048000,
      "rowLimit": 10000
     },
     "inputWidgets": {},
     "nuid": "b7a5f15b-693c-4023-af15-4df209703956",
     "showTitle": false,
     "tableResultSettingsMap": {},
     "title": ""
    }
   },
   "outputs": [],
   "source": [
    "# Call the main function\n",
    "if __name__ == \"__main__\":\n",
    "# Configure logging\n",
    "    logging.basicConfig(level=logging.INFO)\n",
    "    logger = logging.getLogger(__name__)    \n",
    "    main()"
   ]
  }
 ],
 "metadata": {
  "application/vnd.databricks.v1+notebook": {
   "computePreferences": null,
   "dashboards": [],
   "environmentMetadata": {
    "base_environment": "",
    "client": "2"
   },
   "language": "python",
   "notebookMetadata": {
    "pythonIndentUnit": 4
   },
   "notebookName": "silver_layer",
   "widgets": {
    "catalog_name": {
     "currentValue": "deloitte",
     "nuid": "fa48ea4d-67b4-4ce5-be24-da86e644a94c",
     "typedWidgetInfo": {
      "autoCreated": false,
      "defaultValue": "deloitte",
      "label": "Catalog Name",
      "name": "catalog_name",
      "options": {
       "widgetDisplayType": "Text",
       "validationRegex": null
      },
      "parameterDataType": "String"
     },
     "widgetInfo": {
      "widgetType": "text",
      "defaultValue": "deloitte",
      "label": "Catalog Name",
      "name": "catalog_name",
      "options": {
       "widgetType": "text",
       "autoCreated": null,
       "validationRegex": null
      }
     }
    }
   }
  },
  "language_info": {
   "name": "python"
  }
 },
 "nbformat": 4,
 "nbformat_minor": 0
}
